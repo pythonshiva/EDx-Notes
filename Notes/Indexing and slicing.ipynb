{
 "cells": [
  {
   "cell_type": "markdown",
   "metadata": {},
   "source": [
    "### Slicing and Indexing\n"
   ]
  },
  {
   "cell_type": "code",
   "execution_count": 12,
   "metadata": {},
   "outputs": [
    {
     "name": "stdout",
     "output_type": "stream",
     "text": [
      "[[11 12 13 14]\n",
      " [21 22 23 24]\n",
      " [31 32 33 34]]\n",
      "(3, 4)\n"
     ]
    }
   ],
   "source": [
    "import numpy as np\n",
    "array1 = np.array(([11,12,13,14], [21,22,23,24], [31,32,33,34]))\n",
    "print(array1)\n",
    "print(array1.shape)"
   ]
  },
  {
   "cell_type": "markdown",
   "metadata": {},
   "source": [
    "* Using array slicling we can get the sub arry from the above array"
   ]
  },
  {
   "cell_type": "code",
   "execution_count": 7,
   "metadata": {},
   "outputs": [
    {
     "name": "stdout",
     "output_type": "stream",
     "text": [
      "[[12 13]\n",
      " [22 23]]\n"
     ]
    }
   ],
   "source": [
    "sub_array = array1[:2, 1:3]\n",
    "print(sub_array)"
   ]
  },
  {
   "cell_type": "code",
   "execution_count": 10,
   "metadata": {},
   "outputs": [
    {
     "name": "stdout",
     "output_type": "stream",
     "text": [
      "1000\n",
      "1000\n"
     ]
    }
   ],
   "source": [
    "#Now actually we will try to change the value in sliced array and it will reflect in main array too\n",
    "print(array1[0,1])\n",
    "sub_array[0,0]=1000\n",
    "print(array1[0,1])"
   ]
  },
  {
   "cell_type": "code",
   "execution_count": 14,
   "metadata": {},
   "outputs": [
    {
     "name": "stdout",
     "output_type": "stream",
     "text": [
      "[[12 13]\n",
      " [22 23]]\n"
     ]
    }
   ],
   "source": [
    "#To get the actual copy of the sub array we can do as\n",
    "sub_array = np.array(array1[:2, 1:3])\n",
    "print(sub_array)"
   ]
  },
  {
   "cell_type": "code",
   "execution_count": 16,
   "metadata": {},
   "outputs": [
    {
     "name": "stdout",
     "output_type": "stream",
     "text": [
      "12\n",
      "12\n"
     ]
    }
   ],
   "source": [
    "#If we try to change the value in the sub arrary the canges won't reflect the main array\n",
    "print(array1[0,1])\n",
    "sub_array[0,0]=1000\n",
    "print(array1[0,1])"
   ]
  },
  {
   "cell_type": "markdown",
   "metadata": {},
   "source": [
    "### Use both integer indexing and slice indexing"
   ]
  },
  {
   "cell_type": "code",
   "execution_count": 26,
   "metadata": {},
   "outputs": [
    {
     "name": "stdout",
     "output_type": "stream",
     "text": [
      "[[11 12 13 14]\n",
      " [21 22 23 24]\n",
      " [31 32 33 34]\n",
      " [41 42 43 44]]\n",
      "(4, 4)\n"
     ]
    }
   ],
   "source": [
    "array1 = np.array(([11,12,13,14], [21,22,23,24], [31,32,33,34]))\n",
    "print(array1)\n",
    "print(array1.shape)"
   ]
  },
  {
   "cell_type": "code",
   "execution_count": 19,
   "metadata": {},
   "outputs": [
    {
     "name": "stdout",
     "output_type": "stream",
     "text": [
      "[21 22 23 24] (4,)\n"
     ]
    }
   ],
   "source": [
    "#Using both ingeger indexing and slicing create a lower rank arry\n",
    "row_rank = array1[1, :]\n",
    "print(row_rank, row_rank.shape)"
   ]
  },
  {
   "cell_type": "code",
   "execution_count": 22,
   "metadata": {},
   "outputs": [
    {
     "name": "stdout",
     "output_type": "stream",
     "text": [
      "[[21 22 23 24]] (1, 4)\n"
     ]
    }
   ],
   "source": [
    "#Slicing alone generates the same rank as the original array\n",
    "row_rank2 = array1[1:2, :]\n",
    "print(row_rank2, row_rank2.shape)"
   ]
  },
  {
   "cell_type": "code",
   "execution_count": 29,
   "metadata": {},
   "outputs": [
    {
     "name": "stdout",
     "output_type": "stream",
     "text": [
      "[[11 12 14 15]\n",
      " [21 22 23 24]\n",
      " [31 32 33 34]\n",
      " [41 42 43 44]] (4, 4)\n",
      "Values in the array at those indeces are:  [11 23 32 41]\n",
      "[[10011    12    14    15]\n",
      " [   21    22 10023    24]\n",
      " [   31 10032    33    34]\n",
      " [10041    42    43    44]]\n"
     ]
    }
   ],
   "source": [
    "#Create a 4x4 array\n",
    "array2 = np.array([[11,12,14,15], [21,22,23,24], [31,32,33,34], [41,42,43,44]])\n",
    "print(array2, array2.shape)\n",
    "\n",
    "#Create some row indeces\n",
    "row_indeces = [0,1,2,3]\n",
    "\n",
    "#Create some column indeces\n",
    "col_indeces = [0,2,1,0]\n",
    "print(\"Values in the array at those indeces are: \", array2[row_indeces, col_indeces])\n",
    "\n",
    "#We can change the values at those indeces are easy as below\n",
    "array2[row_indeces, col_indeces] += 10000\n",
    "print(array2)"
   ]
  }
 ],
 "metadata": {
  "kernelspec": {
   "display_name": "Python 3",
   "language": "python",
   "name": "python3"
  },
  "language_info": {
   "codemirror_mode": {
    "name": "ipython",
    "version": 3
   },
   "file_extension": ".py",
   "mimetype": "text/x-python",
   "name": "python",
   "nbconvert_exporter": "python",
   "pygments_lexer": "ipython3",
   "version": "3.7.3"
  }
 },
 "nbformat": 4,
 "nbformat_minor": 2
}
