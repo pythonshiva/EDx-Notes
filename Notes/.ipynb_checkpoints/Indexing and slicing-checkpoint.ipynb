{
 "cells": [
  {
   "cell_type": "markdown",
   "metadata": {},
   "source": [
    "### Slicing and Indexing\n"
   ]
  },
  {
   "cell_type": "code",
   "execution_count": 12,
   "metadata": {},
   "outputs": [
    {
     "name": "stdout",
     "output_type": "stream",
     "text": [
      "[[11 12 13 14]\n",
      " [21 22 23 24]\n",
      " [31 32 33 34]]\n",
      "(3, 4)\n"
     ]
    }
   ],
   "source": [
    "import numpy as np\n",
    "array1 = np.array(([11,12,13,14], [21,22,23,24], [31,32,33,34]))\n",
    "print(array1)\n",
    "print(array1.shape)"
   ]
  },
  {
   "cell_type": "markdown",
   "metadata": {},
   "source": [
    "* Using array slicling we can get the sub arry from the above array"
   ]
  },
  {
   "cell_type": "code",
   "execution_count": 7,
   "metadata": {},
   "outputs": [
    {
     "name": "stdout",
     "output_type": "stream",
     "text": [
      "[[12 13]\n",
      " [22 23]]\n"
     ]
    }
   ],
   "source": [
    "sub_array = array1[:2, 1:3]\n",
    "print(sub_array)"
   ]
  },
  {
   "cell_type": "code",
   "execution_count": 10,
   "metadata": {},
   "outputs": [
    {
     "name": "stdout",
     "output_type": "stream",
     "text": [
      "1000\n",
      "1000\n"
     ]
    }
   ],
   "source": [
    "#Now actually we will try to change the value in sliced array and it will reflect in main array too\n",
    "print(array1[0,1])\n",
    "sub_array[0,0]=1000\n",
    "print(array1[0,1])"
   ]
  },
  {
   "cell_type": "code",
   "execution_count": 14,
   "metadata": {},
   "outputs": [
    {
     "name": "stdout",
     "output_type": "stream",
     "text": [
      "[[12 13]\n",
      " [22 23]]\n"
     ]
    }
   ],
   "source": [
    "#To get the actual copy of the sub array we can do as\n",
    "sub_array = np.array(array1[:2, 1:3])\n",
    "print(sub_array)"
   ]
  },
  {
   "cell_type": "code",
   "execution_count": 16,
   "metadata": {},
   "outputs": [
    {
     "name": "stdout",
     "output_type": "stream",
     "text": [
      "12\n",
      "12\n"
     ]
    }
   ],
   "source": [
    "#If we try to change the value in the sub arrary the canges won't reflect the main array\n",
    "print(array1[0,1])\n",
    "sub_array[0,0]=1000\n",
    "print(array1[0,1])"
   ]
  },
  {
   "cell_type": "markdown",
   "metadata": {},
   "source": [
    "### Use both integer indexing and slice indexing"
   ]
  },
  {
   "cell_type": "code",
   "execution_count": 26,
   "metadata": {},
   "outputs": [
    {
     "name": "stdout",
     "output_type": "stream",
     "text": [
      "[[11 12 13 14]\n",
      " [21 22 23 24]\n",
      " [31 32 33 34]\n",
      " [41 42 43 44]]\n",
      "(4, 4)\n"
     ]
    }
   ],
   "source": [
    "array1 = np.array(([11,12,13,14], [21,22,23,24], [31,32,33,34]))\n",
    "print(array1)\n",
    "print(array1.shape)"
   ]
  },
  {
   "cell_type": "code",
   "execution_count": 19,
   "metadata": {},
   "outputs": [
    {
     "name": "stdout",
     "output_type": "stream",
     "text": [
      "[21 22 23 24] (4,)\n"
     ]
    }
   ],
   "source": [
    "#Using both ingeger indexing and slicing create a lower rank arry\n",
    "row_rank = array1[1, :]\n",
    "print(row_rank, row_rank.shape)"
   ]
  },
  {
   "cell_type": "code",
   "execution_count": 22,
   "metadata": {},
   "outputs": [
    {
     "name": "stdout",
     "output_type": "stream",
     "text": [
      "[[21 22 23 24]] (1, 4)\n"
     ]
    }
   ],
   "source": [
    "#Slicing alone generates the same rank as the original array\n",
    "row_rank2 = array1[1:2, :]\n",
    "print(row_rank2, row_rank2.shape)"
   ]
  },
  {
   "cell_type": "code",
   "execution_count": 27,
   "metadata": {},
   "outputs": [
    {
     "name": "stdout",
     "output_type": "stream",
     "text": [
      "[[11 12 14 15]\n",
      " [21 22 23 24]\n",
      " [31 32 33 34]] (3, 4)\n"
     ]
    },
    {
     "ename": "IndexError",
     "evalue": "index 3 is out of bounds for axis 0 with size 3",
     "output_type": "error",
     "traceback": [
      "\u001b[1;31m---------------------------------------------------------------------------\u001b[0m",
      "\u001b[1;31mIndexError\u001b[0m                                Traceback (most recent call last)",
      "\u001b[1;32m<ipython-input-27-ce6c79db8258>\u001b[0m in \u001b[0;36m<module>\u001b[1;34m\u001b[0m\n\u001b[0;32m      8\u001b[0m \u001b[1;31m#Create some column indeces\u001b[0m\u001b[1;33m\u001b[0m\u001b[1;33m\u001b[0m\u001b[1;33m\u001b[0m\u001b[0m\n\u001b[0;32m      9\u001b[0m \u001b[0mcol_indeces\u001b[0m \u001b[1;33m=\u001b[0m \u001b[1;33m[\u001b[0m\u001b[1;36m0\u001b[0m\u001b[1;33m,\u001b[0m\u001b[1;36m2\u001b[0m\u001b[1;33m,\u001b[0m\u001b[1;36m1\u001b[0m\u001b[1;33m,\u001b[0m\u001b[1;36m0\u001b[0m\u001b[1;33m]\u001b[0m\u001b[1;33m\u001b[0m\u001b[1;33m\u001b[0m\u001b[0m\n\u001b[1;32m---> 10\u001b[1;33m \u001b[0mprint\u001b[0m\u001b[1;33m(\u001b[0m\u001b[1;34m\"Values in the array at those indeces are: \"\u001b[0m\u001b[1;33m,\u001b[0m \u001b[0marray2\u001b[0m\u001b[1;33m[\u001b[0m\u001b[0mrow_indeces\u001b[0m\u001b[1;33m,\u001b[0m \u001b[0mcol_indeces\u001b[0m\u001b[1;33m]\u001b[0m\u001b[1;33m)\u001b[0m\u001b[1;33m\u001b[0m\u001b[1;33m\u001b[0m\u001b[0m\n\u001b[0m",
      "\u001b[1;31mIndexError\u001b[0m: index 3 is out of bounds for axis 0 with size 3"
     ]
    }
   ],
   "source": [
    "#Create a 4x4 array\n",
    "array2 = np.array([[11,12,14,15], [21,22,23,24], [31,32,33,34], [41,42,43,44]])\n",
    "print(array2, array2.shape)\n",
    "\n",
    "#Create some row indeces\n",
    "row_indeces = [0,1,2,3]\n",
    "\n",
    "#Create some column indeces\n",
    "col_indeces = [0,2,1,0]\n",
    "print(\"Values in the array at those indeces are: \", array2[row_indeces, col_indeces])"
   ]
  }
 ],
 "metadata": {
  "kernelspec": {
   "display_name": "Python 3",
   "language": "python",
   "name": "python3"
  },
  "language_info": {
   "codemirror_mode": {
    "name": "ipython",
    "version": 3
   },
   "file_extension": ".py",
   "mimetype": "text/x-python",
   "name": "python",
   "nbconvert_exporter": "python",
   "pygments_lexer": "ipython3",
   "version": "3.7.3"
  }
 },
 "nbformat": 4,
 "nbformat_minor": 2
}
