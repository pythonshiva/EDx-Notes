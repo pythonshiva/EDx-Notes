{
 "cells": [
  {
   "cell_type": "code",
   "execution_count": 3,
   "metadata": {},
   "outputs": [
    {
     "name": "stdout",
     "output_type": "stream",
     "text": [
      "[[0.5942774  0.43674343 0.86441496 0.45126984]\n",
      " [0.71181623 0.82784263 0.44832994 0.61668929]]\n"
     ]
    }
   ],
   "source": [
    "# Lets create a 2x4 matrix\n",
    "import numpy as np\n",
    "an_array = np.random.random([2,4])\n",
    "print(an_array)"
   ]
  },
  {
   "cell_type": "code",
   "execution_count": 5,
   "metadata": {},
   "outputs": [
    {
     "name": "stdout",
     "output_type": "stream",
     "text": [
      "0.6189229668010029\n"
     ]
    }
   ],
   "source": [
    "#Lets get the mean of that array\n",
    "mean = an_array.mean()\n",
    "print(mean)"
   ]
  },
  {
   "cell_type": "code",
   "execution_count": 7,
   "metadata": {},
   "outputs": [
    {
     "name": "stdout",
     "output_type": "stream",
     "text": [
      "[0.58667641 0.65116952]\n"
     ]
    }
   ],
   "source": [
    "# If we wanted to find the mean row wise \n",
    "r_mean = an_array.mean(axis=1)\n",
    "print(r_mean)"
   ]
  },
  {
   "cell_type": "code",
   "execution_count": 10,
   "metadata": {},
   "outputs": [
    {
     "name": "stdout",
     "output_type": "stream",
     "text": [
      "[0.65304682 0.63229303 0.65637245 0.53397957]\n"
     ]
    }
   ],
   "source": [
    "#If we wanted to get the mean for column wise then\n",
    "c_mean = an_array.mean(axis=0)\n",
    "print(c_mean)"
   ]
  },
  {
   "cell_type": "code",
   "execution_count": 13,
   "metadata": {},
   "outputs": [
    {
     "name": "stdout",
     "output_type": "stream",
     "text": [
      "4.951383734408023\n"
     ]
    }
   ],
   "source": [
    "#Sum all the elements\n",
    "print(an_array.sum())"
   ]
  },
  {
   "cell_type": "code",
   "execution_count": 26,
   "metadata": {},
   "outputs": [
    {
     "name": "stdout",
     "output_type": "stream",
     "text": [
      "[[21 22 23 24]\n",
      " [31 32 33 34]\n",
      " [41 42 43 44]]\n",
      "[[33 34]\n",
      " [43 44]]\n"
     ]
    }
   ],
   "source": [
    "a = np.array([[21,22,23,24], [31,32,33,34], [41,42,43,44]])\n",
    "print(a)\n",
    "print(a[-2:, -2:])"
   ]
  },
  {
   "cell_type": "code",
   "execution_count": 28,
   "metadata": {},
   "outputs": [
    {
     "name": "stdout",
     "output_type": "stream",
     "text": [
      "[0.52277362 0.66425276]\n"
     ]
    }
   ],
   "source": [
    "#Computing the meadian\n",
    "median = np.median(an_array, axis=1)\n",
    "print(median)"
   ]
  },
  {
   "cell_type": "markdown",
   "metadata": {},
   "source": [
    "### Sorting:\n"
   ]
  },
  {
   "cell_type": "code",
   "execution_count": 30,
   "metadata": {},
   "outputs": [
    {
     "name": "stdout",
     "output_type": "stream",
     "text": [
      "[-2.3430289  -0.77378877  0.1801945  -0.45579138  0.80811593  0.44354606\n",
      "  1.19905778  0.58590234  1.04528137  0.19715032]\n"
     ]
    }
   ],
   "source": [
    "un_sorted = np.random.randn(10)\n",
    "print(un_sorted)"
   ]
  },
  {
   "cell_type": "code",
   "execution_count": 33,
   "metadata": {},
   "outputs": [
    {
     "name": "stdout",
     "output_type": "stream",
     "text": [
      "[-2.3430289  -0.77378877 -0.45579138  0.1801945   0.19715032  0.44354606\n",
      "  0.58590234  0.80811593  1.04528137  1.19905778]\n",
      "[-2.3430289  -0.77378877  0.1801945  -0.45579138  0.80811593  0.44354606\n",
      "  1.19905778  0.58590234  1.04528137  0.19715032]\n"
     ]
    }
   ],
   "source": [
    "#Before sorting this array let's copy it\n",
    "sorted = np.array(un_sorted)\n",
    "sorted.sort()\n",
    "print(sorted)\n",
    "print(un_sorted)"
   ]
  },
  {
   "cell_type": "markdown",
   "metadata": {},
   "source": [
    "### Finding unique elements"
   ]
  },
  {
   "cell_type": "code",
   "execution_count": 35,
   "metadata": {},
   "outputs": [
    {
     "name": "stdout",
     "output_type": "stream",
     "text": [
      "[2 3 4 5]\n"
     ]
    }
   ],
   "source": [
    "arr = np.array([2,3,4,3,2,5,3,4,2])\n",
    "print(np.unique(arr))"
   ]
  },
  {
   "cell_type": "markdown",
   "metadata": {},
   "source": [
    "### Set operations with np.array data type"
   ]
  },
  {
   "cell_type": "code",
   "execution_count": 37,
   "metadata": {},
   "outputs": [
    {
     "name": "stdout",
     "output_type": "stream",
     "text": [
      "['desk' 'chair' 'bulb'] ['lamp' 'bulb' 'chair']\n"
     ]
    }
   ],
   "source": [
    "s1 = np.array(['desk', 'chair', 'bulb'])\n",
    "s2 = np.array(['lamp', 'bulb', 'chair'])\n",
    "print(s1, s2)"
   ]
  },
  {
   "cell_type": "code",
   "execution_count": 39,
   "metadata": {},
   "outputs": [
    {
     "name": "stdout",
     "output_type": "stream",
     "text": [
      "['bulb' 'chair']\n"
     ]
    }
   ],
   "source": [
    "#Get intersect\n",
    "print(np.intersect1d(s1, s2))"
   ]
  },
  {
   "cell_type": "code",
   "execution_count": 41,
   "metadata": {},
   "outputs": [
    {
     "name": "stdout",
     "output_type": "stream",
     "text": [
      "['bulb' 'chair' 'desk' 'lamp']\n"
     ]
    }
   ],
   "source": [
    "#Get union\n",
    "print(np.union1d(s1, s2))"
   ]
  },
  {
   "cell_type": "code",
   "execution_count": 43,
   "metadata": {},
   "outputs": [
    {
     "name": "stdout",
     "output_type": "stream",
     "text": [
      "['desk']\n"
     ]
    }
   ],
   "source": [
    "#Elements in s1 that are not in s2\n",
    "print(np.setdiff1d(s1, s2))"
   ]
  },
  {
   "cell_type": "code",
   "execution_count": 45,
   "metadata": {},
   "outputs": [
    {
     "name": "stdout",
     "output_type": "stream",
     "text": [
      "[False  True  True]\n"
     ]
    }
   ],
   "source": [
    "#Elements in s1 that are also in s2\n",
    "print(np.in1d(s1, s2))"
   ]
  }
 ],
 "metadata": {
  "kernelspec": {
   "display_name": "Python 3",
   "language": "python",
   "name": "python3"
  },
  "language_info": {
   "codemirror_mode": {
    "name": "ipython",
    "version": 3
   },
   "file_extension": ".py",
   "mimetype": "text/x-python",
   "name": "python",
   "nbconvert_exporter": "python",
   "pygments_lexer": "ipython3",
   "version": "3.7.3"
  }
 },
 "nbformat": 4,
 "nbformat_minor": 2
}
