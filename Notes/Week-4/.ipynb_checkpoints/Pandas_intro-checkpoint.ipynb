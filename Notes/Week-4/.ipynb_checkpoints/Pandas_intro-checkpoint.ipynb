{
 "cells": [
  {
   "cell_type": "markdown",
   "metadata": {},
   "source": [
    "## Pandas introduction"
   ]
  },
  {
   "cell_type": "code",
   "execution_count": 1,
   "metadata": {},
   "outputs": [],
   "source": [
    "import pandas as pd\n"
   ]
  },
  {
   "cell_type": "code",
   "execution_count": 34,
   "metadata": {},
   "outputs": [
    {
     "name": "stdout",
     "output_type": "stream",
     "text": [
      "Vamsi      33\n",
      "Blaji      41\n",
      "Mahesh     45\n",
      "Aravind    47\n",
      "Naga       57\n",
      "Siva       60\n",
      "dtype: int64\n",
      "<class 'pandas.core.series.Series'>\n"
     ]
    }
   ],
   "source": [
    "#Lets try to create a series\n",
    "ser = pd.Series([33, 41, 45, 47, 57, 60], ['Vamsi', 'Blaji', 'Mahesh', 'Aravind', 'Naga', 'Siva'])\n",
    "print(ser)\n",
    "print(type(ser))\n"
   ]
  },
  {
   "cell_type": "code",
   "execution_count": 26,
   "metadata": {},
   "outputs": [
    {
     "name": "stdout",
     "output_type": "stream",
     "text": [
      "57\n",
      "value in index 2 is:  45\n",
      "60\n",
      "Siva     60\n",
      "Naga     57\n",
      "Vamsi    33\n",
      "dtype: int64\n",
      "Naga       57\n",
      "Mahesh     45\n",
      "Aravind    47\n",
      "Blaji      41\n",
      "dtype: int64\n",
      "41\n",
      "Aravind    47\n",
      "Mahesh     45\n",
      "Blaji      41\n",
      "dtype: int64\n"
     ]
    }
   ],
   "source": [
    "#We can get the data in multiple ways\n",
    "print(ser['Naga'])\n",
    "print('value in index 2 is: ', ser[2])\n",
    "#Get the value from the index location\n",
    "print(ser.loc['Siva'])\n",
    "#Retrieve multiple values\n",
    "print(ser[['Siva', 'Naga', 'Vamsi']])\n",
    "#We can also retrieve the multiple values with the indexes\n",
    "print(ser[[4,2,3,1]])\n",
    "#We can also fetch the data with iloc\n",
    "print(ser.iloc[1])\n",
    "print(ser.iloc[[3, 2,1]])"
   ]
  },
  {
   "cell_type": "code",
   "execution_count": 30,
   "metadata": {},
   "outputs": [
    {
     "name": "stdout",
     "output_type": "stream",
     "text": [
      "True\n",
      "False\n"
     ]
    }
   ],
   "source": [
    "#We can also check whether the index is available or not in the series\n",
    "print('Siva' in ser)\n",
    "print('Kumar' in ser)"
   ]
  },
  {
   "cell_type": "code",
   "execution_count": 33,
   "metadata": {},
   "outputs": [
    {
     "name": "stdout",
     "output_type": "stream",
     "text": [
      "Vamsi      33\n",
      "Blaji      41\n",
      "Mahesh     45\n",
      "Aravind    47\n",
      "Naga       57\n",
      "Siva       60\n",
      "dtype: int64\n",
      "Vamsi       66\n",
      "Blaji       82\n",
      "Mahesh      90\n",
      "Aravind     94\n",
      "Naga       114\n",
      "Siva       120\n",
      "dtype: int64\n"
     ]
    }
   ],
   "source": [
    "#We can also use arthematic operations on the data\n",
    "print(ser)\n",
    "print(ser*2)\n"
   ]
  },
  {
   "cell_type": "code",
   "execution_count": 42,
   "metadata": {},
   "outputs": [
    {
     "name": "stdout",
     "output_type": "stream",
     "text": [
      "Siva    3600\n",
      "Naga    3249\n",
      "dtype: int64\n",
      "Vamsi       33\n",
      "Blaji       41\n",
      "Mahesh      45\n",
      "Aravind     47\n",
      "Naga       100\n",
      "Siva       100\n",
      "dtype: int64\n"
     ]
    }
   ],
   "source": [
    "#Applying square function on the data\n",
    "ser **2\n",
    "ser\n",
    "\n",
    "#We can also select the data to apply on to\n",
    "print(ser[['Siva', 'Naga']]**2)\n",
    "# mask = ser>55\n",
    "# ser[mask]=100\n",
    "# print(ser)"
   ]
  }
 ],
 "metadata": {
  "kernelspec": {
   "display_name": "Python 3",
   "language": "python",
   "name": "python3"
  },
  "language_info": {
   "codemirror_mode": {
    "name": "ipython",
    "version": 3
   },
   "file_extension": ".py",
   "mimetype": "text/x-python",
   "name": "python",
   "nbconvert_exporter": "python",
   "pygments_lexer": "ipython3",
   "version": "3.7.3"
  }
 },
 "nbformat": 4,
 "nbformat_minor": 2
}
